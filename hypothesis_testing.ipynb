{
 "cells": [
  {
   "cell_type": "markdown",
   "metadata": {},
   "source": [
    "For each of the following questions, formulate a null and alternative hypothesis (be as specific as you can be), then give an example of what a true positive, true negative, type I and type II errors would look like. Note that some of the questions are intentionally phrased in a vague way. It is your job to reword these as more precise questions that could be tested.\n",
    "\n"
   ]
  },
  {
   "cell_type": "markdown",
   "metadata": {},
   "source": [
    "Has the network latency gone up since we switched internet service providers?\n"
   ]
  },
  {
   "cell_type": "markdown",
   "metadata": {},
   "source": [
    "Null hypothesis: There is no difference in network latency between ISP 1 and ISP 2<br>\n",
    "Alternative hypothesis: There is a difference in network latency between ISP 1 and ISP 2<br>\n",
    "True positive: There is a difference<br>\n",
    "True negative: There is no difference<br>\n",
    "Type I error: Concluding that there is a difference when there is in fact no difference<br>\n",
    "Type II error: Concluding there is no difference when there is in fact a difference<br>"
   ]
  },
  {
   "cell_type": "markdown",
   "metadata": {},
   "source": [
    "Is the website redesign any good?\n"
   ]
  },
  {
   "cell_type": "markdown",
   "metadata": {},
   "source": [
    "Null hypothesis: There is no difference in website performance between version 1 and version 2<br>\n",
    "Alternative hypothesis: There is a difference in website performance between version 1 and version 2<br>\n",
    "True positive: There is a difference<br>\n",
    "True negative: There is no difference<br>\n",
    "Type I error: Concluding that there is a difference when there is in fact no difference<br>\n",
    "Type II error: Concluding there is no difference when there is in fact a difference<br>"
   ]
  },
  {
   "cell_type": "markdown",
   "metadata": {},
   "source": [
    "Is our television ad driving more sales?"
   ]
  },
  {
   "cell_type": "markdown",
   "metadata": {},
   "source": [
    "Null hypothesis: There is no difference in sales before TV ad went out and sales after TV ad went out<br>\n",
    "Alternative hypothesis: There is a difference in sales before TV ad went out and sales after TV ad went out<br>\n",
    "True positive: There is a difference<br>\n",
    "True negative: There is no difference<br>\n",
    "Type I error: Concluding that there is a difference when there is in fact no difference<br>\n",
    "Type II error: Concluding there is no difference when there is in fact a difference<br>"
   ]
  }
 ],
 "metadata": {
  "kernelspec": {
   "display_name": "Python 3",
   "language": "python",
   "name": "python3"
  },
  "language_info": {
   "codemirror_mode": {
    "name": "ipython",
    "version": 3
   },
   "file_extension": ".py",
   "mimetype": "text/x-python",
   "name": "python",
   "nbconvert_exporter": "python",
   "pygments_lexer": "ipython3",
   "version": "3.8.5"
  }
 },
 "nbformat": 4,
 "nbformat_minor": 4
}
